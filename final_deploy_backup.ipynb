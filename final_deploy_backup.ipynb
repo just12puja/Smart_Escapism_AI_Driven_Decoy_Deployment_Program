{
  "nbformat": 4,
  "nbformat_minor": 0,
  "metadata": {
    "colab": {
      "provenance": [],
      "include_colab_link": true
    },
    "kernelspec": {
      "name": "python3",
      "display_name": "Python 3"
    },
    "language_info": {
      "name": "python"
    }
  },
  "cells": [
    {
      "cell_type": "markdown",
      "metadata": {
        "id": "view-in-github",
        "colab_type": "text"
      },
      "source": [
        "<a href=\"https://colab.research.google.com/github/just12puja/Smart_Escapism_AI_Driven_Decoy_Deployment_Program/blob/main/final_deploy_backup.ipynb\" target=\"_parent\"><img src=\"https://colab.research.google.com/assets/colab-badge.svg\" alt=\"Open In Colab\"/></a>"
      ]
    },
    {
      "cell_type": "code",
      "execution_count": 1,
      "metadata": {
        "colab": {
          "base_uri": "https://localhost:8080/"
        },
        "id": "CcrQ2SllTsMq",
        "outputId": "e87a3fd4-d49f-4076-f82d-72e311fdc363"
      },
      "outputs": [
        {
          "output_type": "stream",
          "name": "stdout",
          "text": [
            "\u001b[2K   \u001b[90m━━━━━━━━━━━━━━━━━━━━━━━━━━━━━━━━━━━━━━━━\u001b[0m \u001b[32m10.0/10.0 MB\u001b[0m \u001b[31m79.5 MB/s\u001b[0m eta \u001b[36m0:00:00\u001b[0m\n",
            "\u001b[2K   \u001b[90m━━━━━━━━━━━━━━━━━━━━━━━━━━━━━━━━━━━━━━━━\u001b[0m \u001b[32m6.9/6.9 MB\u001b[0m \u001b[31m100.4 MB/s\u001b[0m eta \u001b[36m0:00:00\u001b[0m\n",
            "\u001b[?25h✅ Dependencies installed.\n",
            "✅ Port 8501 cleared.\n"
          ]
        }
      ],
      "source": [
        "# Install required libraries\n",
        "!pip install -q streamlit pyngrok scikit-learn pandas matplotlib\n",
        "print(\"✅ Dependencies installed.\")\n",
        "\n",
        "# Kill any existing Streamlit process that might be running on port 8501\n",
        "import os\n",
        "os.system(\"kill -9 $(lsof -t -i:8501)\")\n",
        "print(\"✅ Port 8501 cleared.\")"
      ]
    },
    {
      "cell_type": "code",
      "source": [
        "import pandas as pd\n",
        "import numpy as np\n",
        "import random\n",
        "from sklearn.ensemble import RandomForestClassifier, RandomForestRegressor\n",
        "import matplotlib.pyplot as plt\n",
        "\n",
        "# --- 1. DATA GENERATION (Replicating the original Tkinter logic) ---\n",
        "grid_size = 10\n",
        "n_samples = 1000\n",
        "data = []\n",
        "\n",
        "for _ in range(n_samples):\n",
        "    traffic = random.randint(100, 1000)\n",
        "    anomaly = random.uniform(0, 1)\n",
        "    alerts = random.randint(0, 20)\n",
        "\n",
        "    # Simplified threat and heatmap generation for synthetic data\n",
        "    threat_x, threat_y = random.randint(0, grid_size-1), random.randint(0, grid_size-1)\n",
        "    # Replicating the heatmap score logic\n",
        "    heatmap_score = int(min(10, anomaly*10 + alerts/2 + traffic/200))\n",
        "    # Replicating the deploy decoy logic\n",
        "    deploy_decoy = 1 if heatmap_score > 6 or (anomaly > 0.6 and alerts > 10) else 0\n",
        "\n",
        "    data.append([traffic, anomaly, alerts, threat_x, threat_y, heatmap_score, deploy_decoy])\n",
        "\n",
        "# Create the DataFrame and save it as 'historical_attacks.csv'\n",
        "df_historic = pd.DataFrame(data, columns=[\"traffic\", \"anomaly\", \"alerts\", \"threat_x\", \"threat_y\", \"heatmap\", \"deploy\"])\n",
        "df_historic.to_csv(\"historical_attacks.csv\", index=False)\n",
        "print(\"✅ historical_attacks.csv created.\")\n",
        "\n",
        "# --- 2. TRAIN MODELS (Replicating the original Tkinter logic) ---\n",
        "\n",
        "# Features\n",
        "X = df_historic[[\"traffic\", \"anomaly\", \"alerts\"]]\n",
        "\n",
        "clf_x = RandomForestClassifier(n_estimators=100, random_state=42).fit(X, df_historic[\"threat_x\"])\n",
        "clf_y = RandomForestClassifier(n_estimators=100, random_state=42).fit(X, df_historic[\"threat_y\"])\n",
        "reg_heatmap = RandomForestRegressor(n_estimators=100, random_state=42).fit(X, df_historic[\"heatmap\"])\n",
        "clf_deploy = RandomForestClassifier(n_estimators=100, random_state=42).fit(\n",
        "    df_historic[[\"traffic\",\"anomaly\",\"alerts\",\"heatmap\"]], df_historic[\"deploy\"]\n",
        ")\n",
        "print(\"✅ Random Forest Models trained.\")\n",
        "\n",
        "# --- 3. Decoy Predictor Function (Required by Streamlit app) ---\n",
        "def predict_decoy_location(asset, threat):\n",
        "    Ax, Ay = asset\n",
        "    Tx, Ty = threat\n",
        "    Dx = (Ax + Tx) // 2 # Use floor division\n",
        "    Dy = (Ay + Ty) // 2\n",
        "    return (Dx, Dy)"
      ],
      "metadata": {
        "colab": {
          "base_uri": "https://localhost:8080/"
        },
        "id": "s40is031UBtp",
        "outputId": "f57e15ee-0427-4486-bc57-8d2b5f5c754d"
      },
      "execution_count": 2,
      "outputs": [
        {
          "output_type": "stream",
          "name": "stdout",
          "text": [
            "✅ historical_attacks.csv created.\n",
            "✅ Random Forest Models trained.\n"
          ]
        }
      ]
    },
    {
      "cell_type": "code",
      "source": [
        "from pyngrok import ngrok\n",
        "from getpass import getpass\n",
        "\n",
        "# Get the ngrok authentication token securely\n",
        "print(\"Please enter your ngrok Authtoken. You can get it from your ngrok dashboard:\")\n",
        "ngrok_token = getpass()\n",
        "\n",
        "# Set the ngrok authentication token\n",
        "try:\n",
        "    ngrok.set_auth_token(ngrok_token)\n",
        "    print(\"✅ Ngrok Authtoken set successfully.\")\n",
        "except Exception as e:\n",
        "    print(f\"❌ Error setting ngrok Authtoken: {e}\")\n",
        "\n",
        "# This cell does not produce a visible output after input, but it configures ngrok for the next steps."
      ],
      "metadata": {
        "colab": {
          "base_uri": "https://localhost:8080/"
        },
        "id": "kaq3n7t-UL65",
        "outputId": "7be20f1d-e0b9-42a6-d7e4-704c88e5e1f3"
      },
      "execution_count": 3,
      "outputs": [
        {
          "output_type": "stream",
          "name": "stdout",
          "text": [
            "Please enter your ngrok Authtoken. You can get it from your ngrok dashboard:\n",
            "··········\n",
            "✅ Ngrok Authtoken set successfully.\n"
          ]
        }
      ]
    },
    {
      "cell_type": "code",
      "source": [
        "%%writefile app.py\n",
        "import streamlit as st\n",
        "import pandas as pd\n",
        "import numpy as np\n",
        "import random\n",
        "import time\n",
        "from sklearn.ensemble import RandomForestClassifier, RandomForestRegressor\n",
        "import matplotlib.pyplot as plt\n",
        "\n",
        "# --- CONFIG ---\n",
        "grid_size = 10\n",
        "asset = (2, 2)\n",
        "CSV_FILE = \"historical_attacks.csv\"\n",
        "\n",
        "# --- 1. LOAD DATA & TRAIN MODELS (Cached for speed) ---\n",
        "@st.cache_resource\n",
        "def load_and_train_models(file_path):\n",
        "    try:\n",
        "        df = pd.read_csv(file_path)\n",
        "    except FileNotFoundError:\n",
        "        st.error(f\"Error: File {file_path} not found. Rerun the previous cells.\")\n",
        "        st.stop()\n",
        "\n",
        "    X = df[[\"traffic\", \"anomaly\", \"alerts\"]]\n",
        "\n",
        "    clf_x = RandomForestClassifier(n_estimators=100, random_state=42).fit(X, df[\"threat_x\"])\n",
        "    clf_y = RandomForestClassifier(n_estimators=100, random_state=42).fit(X, df[\"threat_y\"])\n",
        "    reg_heatmap = RandomForestRegressor(n_estimators=100, random_state=42).fit(X, df[\"heatmap\"])\n",
        "    clf_deploy = RandomForestClassifier(n_estimators=100, random_state=42).fit(\n",
        "        df[[\"traffic\",\"anomaly\",\"alerts\",\"heatmap\"]], df[\"deploy\"]\n",
        "    )\n",
        "    return clf_x, clf_y, reg_heatmap, clf_deploy\n",
        "\n",
        "clf_x, clf_y, reg_heatmap, clf_deploy = load_and_train_models(CSV_FILE)\n",
        "\n",
        "# --- 2. DECOY PREDICTOR FUNCTION ---\n",
        "def predict_decoy_location(asset, threat):\n",
        "    Ax, Ay = asset\n",
        "    Tx, Ty = threat\n",
        "    Dx = (Ax + Tx) // 2\n",
        "    Dy = (Ay + Ty) // 2\n",
        "    return (Dx, Dy)\n",
        "\n",
        "# --- 3. STREAMLIT APP LAYOUT & LOGIC ---\n",
        "st.set_page_config(layout=\"wide\")\n",
        "st.title(\"🛡️ Real-Time Decoy Deployment Predictor\")\n",
        "st.caption(f\"Simulation running with Random Forest models trained on {CSV_FILE} data.\")\n",
        "\n",
        "if 'log_df' not in st.session_state:\n",
        "    st.session_state.log_df = pd.DataFrame(columns=[\n",
        "        \"Cycle\", \"Traffic\", \"Anomaly\", \"Alerts\", \"Threat\", \"Heatmap\", \"Decoy\"\n",
        "    ])\n",
        "if 'cycle' not in st.session_state:\n",
        "    st.session_state.cycle = 0\n",
        "\n",
        "col1, col2 = st.columns([1, 1])\n",
        "\n",
        "def run_simulation_step(cycle):\n",
        "    traffic = random.randint(100, 1000)\n",
        "    anomaly = round(random.uniform(0, 1), 2)\n",
        "    alerts = random.randint(0, 20)\n",
        "\n",
        "    features = np.array([[traffic, anomaly, alerts]])\n",
        "    pred_x = clf_x.predict(features)[0]\n",
        "    pred_y = clf_y.predict(features)[0]\n",
        "    pred_heatmap = reg_heatmap.predict(features)[0]\n",
        "\n",
        "    deploy_pred = clf_deploy.predict([[traffic, anomaly, alerts, pred_heatmap]])[0]\n",
        "\n",
        "    decoy_loc = predict_decoy_location(asset, (pred_x, pred_y)) if deploy_pred == 1 else None\n",
        "\n",
        "    return traffic, anomaly, alerts, pred_x, pred_y, pred_heatmap, decoy_loc\n",
        "\n",
        "def update_dashboard():\n",
        "    st.session_state.cycle += 1\n",
        "    cycle = st.session_state.cycle\n",
        "\n",
        "    traffic, anomaly, alerts, pred_x, pred_y, pred_heatmap, decoy_loc = run_simulation_step(cycle)\n",
        "\n",
        "    result_text = f\"\"\"\n",
        "    **Traffic:** {traffic} | **Anomaly:** {anomaly} | **Alerts:** {alerts}\n",
        "    **Predicted Threat Location:** ({int(pred_x)}, {int(pred_y)}) | **Predicted Heatmap Score:** {pred_heatmap:.2f}\n",
        "    **Decoy Deployment:** {'✅ YES at ' + str(decoy_loc) if decoy_loc else '❌ NO'}\n",
        "    \"\"\"\n",
        "\n",
        "    with col1:\n",
        "        st.subheader(f\"Cycle {cycle} Live Status\")\n",
        "        st.markdown(result_text)\n",
        "\n",
        "        heatmap = np.zeros((grid_size, grid_size))\n",
        "        heatmap[int(pred_y), int(pred_x)] = pred_heatmap\n",
        "\n",
        "        fig, ax = plt.subplots(figsize=(6, 5))\n",
        "        im = ax.imshow(heatmap, cmap=\"hot\", interpolation=\"nearest\", origin='lower')\n",
        "\n",
        "        ax.scatter(asset[0], asset[1], c=\"lime\", marker=\"s\", s=200, label=\"Asset (2,2)\")\n",
        "        ax.scatter(pred_x, pred_y, c=\"red\", marker=\"X\", s=200, label=\"Threat\")\n",
        "        if decoy_loc:\n",
        "            ax.scatter(decoy_loc[0], decoy_loc[1], c=\"cyan\", marker=\"o\", s=200, label=\"Decoy\")\n",
        "\n",
        "        ax.set_title(\"Predicted Threat & Decoy Deployment Map\")\n",
        "        ax.set_xticks(np.arange(grid_size))\n",
        "        ax.set_yticks(np.arange(grid_size))\n",
        "        ax.legend(loc=\"upper right\")\n",
        "        plt.colorbar(im, ax=ax, fraction=0.046, pad=0.04)\n",
        "\n",
        "        st.pyplot(fig)\n",
        "        plt.close(fig)\n",
        "\n",
        "    new_entry = pd.DataFrame([{\n",
        "        \"Cycle\": cycle,\n",
        "        \"Traffic\": traffic,\n",
        "        \"Anomaly\": anomaly,\n",
        "        \"Alerts\": alerts,\n",
        "        \"Threat\": f\"({int(pred_x)},{int(pred_y)})\",\n",
        "        \"Heatmap\": f\"{pred_heatmap:.2f}\",\n",
        "        \"Decoy\": f\"{decoy_loc}\" if decoy_loc else \"No\"\n",
        "    }])\n",
        "\n",
        "    st.session_state.log_df = pd.concat([new_entry, st.session_state.log_df], ignore_index=True)\n",
        "\n",
        "    with col2:\n",
        "        st.subheader(\"Security Log (Last 10 Cycles)\")\n",
        "        st.dataframe(st.session_state.log_df.head(10), use_container_width=True)\n",
        "\n",
        "with st.sidebar:\n",
        "    st.header(\"Controls\")\n",
        "    if st.button(\"Start/Restart Simulation\", type=\"primary\"):\n",
        "        st.session_state.cycle = 0\n",
        "        st.session_state.log_df = pd.DataFrame(columns=[\n",
        "            \"Cycle\", \"Traffic\", \"Anomaly\", \"Alerts\", \"Threat\", \"Heatmap\", \"Decoy\"\n",
        "        ])\n",
        "        st.rerun()\n",
        "\n",
        "    live_update = st.checkbox(\"Enable Live Update (Every 2s)\", value=True)\n",
        "\n",
        "    if st.session_state.cycle > 0:\n",
        "        st.markdown(f\"**Current Cycle:** {st.session_state.cycle}\")\n",
        "\n",
        "if st.session_state.cycle == 0 or live_update:\n",
        "    update_dashboard()\n",
        "    if live_update:\n",
        "        time.sleep(2)\n",
        "        st.rerun()"
      ],
      "metadata": {
        "colab": {
          "base_uri": "https://localhost:8080/"
        },
        "id": "F-YJcX8vVA5L",
        "outputId": "a58c632f-1038-4f32-eb89-97ca3d17e6de"
      },
      "execution_count": 4,
      "outputs": [
        {
          "output_type": "stream",
          "name": "stdout",
          "text": [
            "Writing app.py\n"
          ]
        }
      ]
    },
    {
      "cell_type": "code",
      "source": [
        "from pyngrok import ngrok\n",
        "import subprocess\n",
        "import time\n",
        "\n",
        "# Set up ngrok tunnel using the previously configured token\n",
        "try:\n",
        "    http_tunnel = ngrok.connect(8501, bind_tls=True)\n",
        "    print(f\"🌍 Streamlit Public URL: {http_tunnel.public_url}\")\n",
        "except Exception as e:\n",
        "    # This might happen if the token was wrong, or if ngrok itself has connection issues\n",
        "    print(f\"❌ Failed to start ngrok tunnel: {e}\")\n",
        "    print(\"If the Streamlit server starts, you might be able to find the URL in the console output below.\")\n",
        "\n",
        "# Run the Streamlit app in the background\n",
        "subprocess.Popen([\"streamlit\", \"run\", \"app.py\", \"--server.enableCORS=false\", \"--server.enableXsrfProtection=false\"],\n",
        "                 stdout=subprocess.PIPE, stderr=subprocess.PIPE)\n",
        "\n",
        "print(\"\\n🚀 Streamlit is starting... Wait a few seconds and click the URL above.\")"
      ],
      "metadata": {
        "colab": {
          "base_uri": "https://localhost:8080/"
        },
        "id": "8Yaj--hUVE54",
        "outputId": "5b0c71d7-cdc5-4c10-f14c-8e44b5d5d87f"
      },
      "execution_count": 5,
      "outputs": [
        {
          "output_type": "stream",
          "name": "stdout",
          "text": [
            "🌍 Streamlit Public URL: https://e638484ba4f9.ngrok-free.app\n",
            "\n",
            "🚀 Streamlit is starting... Wait a few seconds and click the URL above.\n"
          ]
        }
      ]
    },
    {
      "cell_type": "code",
      "source": [],
      "metadata": {
        "id": "rUaSkmlRVSNN"
      },
      "execution_count": null,
      "outputs": []
    }
  ]
}